{
 "cells": [
  {
   "cell_type": "markdown",
   "id": "dc31b47a",
   "metadata": {},
   "source": [
    "11. Write a python program to find the factorial of a number. "
   ]
  },
  {
   "cell_type": "code",
   "execution_count": 37,
   "id": "049c4abf",
   "metadata": {},
   "outputs": [
    {
     "name": "stdout",
     "output_type": "stream",
     "text": [
      "The factorial of 3 is 6\n"
     ]
    }
   ],
   "source": [
    "def factorial(n):\n",
    "\n",
    "    if n < 0:\n",
    "        return \"Factorial is not defined for negative Numbers\"\n",
    "    elif n == 0 or n == 1:\n",
    "        return 1\n",
    "    else:\n",
    "        result = 1\n",
    "        for i in range(2, n + 1):\n",
    "            result *= i\n",
    "        return result\n",
    "number = 3\n",
    "print(\"The factorial of\", number, \"is\", factorial(number))"
   ]
  },
  {
   "cell_type": "markdown",
   "id": "d565bfe8",
   "metadata": {},
   "source": [
    "12. Write a python program to find whether a number is prime or composite. "
   ]
  },
  {
   "cell_type": "code",
   "execution_count": 36,
   "id": "176256f5",
   "metadata": {},
   "outputs": [
    {
     "name": "stdout",
     "output_type": "stream",
     "text": [
      "19 is a Prime Number\n"
     ]
    }
   ],
   "source": [
    "def is_prime(number):\n",
    "    if number < 2:\n",
    "        return False\n",
    "    for i in range (2, int(number**0.5) + 1):\n",
    "        if number % i == 0:\n",
    "            return False\n",
    "    return True\n",
    "number = 19\n",
    "if is_prime(num):\n",
    "    print(num,\"is a Prime Number\")\n",
    "else:\n",
    "    print(num,\"is a Composite Number\")"
   ]
  },
  {
   "cell_type": "markdown",
   "id": "3ebf0ac3",
   "metadata": {},
   "source": [
    "13. Write a python program to check whether a given string is palindrome or not. "
   ]
  },
  {
   "cell_type": "code",
   "execution_count": 27,
   "id": "0b43080f",
   "metadata": {},
   "outputs": [
    {
     "name": "stdout",
     "output_type": "stream",
     "text": [
      "'Malayalam' is an palindrome\n"
     ]
    }
   ],
   "source": [
    "def is_palindrome(k):\n",
    "    k = k.replace(\" \", \"\").lower()\n",
    "    return k == k[::-1]\n",
    "string = \"Malayalam\"\n",
    "if is_palindrome(string):\n",
    "    print(f\"'{string}' is an palindrome\")\n",
    "else:\n",
    "    print(f\"'{string}' is not a palindrome\")"
   ]
  },
  {
   "cell_type": "markdown",
   "id": "a1419a1e",
   "metadata": {},
   "source": [
    "15. Write a python program to print the frequency of each of the characters present in a given string. "
   ]
  },
  {
   "cell_type": "code",
   "execution_count": 35,
   "id": "efdeb0db",
   "metadata": {},
   "outputs": [
    {
     "name": "stdout",
     "output_type": "stream",
     "text": [
      "Frequency of characters in 'Tastes So Good, That Cats Ask for It By Name':\n",
      "Character 'T' occurs 2 time(s)\n",
      "Character 'a' occurs 4 time(s)\n",
      "Character 's' occurs 4 time(s)\n",
      "Character 't' occurs 4 time(s)\n",
      "Character 'e' occurs 2 time(s)\n",
      "Character ' ' occurs 9 time(s)\n",
      "Character 'S' occurs 1 time(s)\n",
      "Character 'o' occurs 4 time(s)\n",
      "Character 'G' occurs 1 time(s)\n",
      "Character 'd' occurs 1 time(s)\n",
      "Character ',' occurs 1 time(s)\n",
      "Character 'h' occurs 1 time(s)\n",
      "Character 'C' occurs 1 time(s)\n",
      "Character 'A' occurs 1 time(s)\n",
      "Character 'k' occurs 1 time(s)\n",
      "Character 'f' occurs 1 time(s)\n",
      "Character 'r' occurs 1 time(s)\n",
      "Character 'I' occurs 1 time(s)\n",
      "Character 'B' occurs 1 time(s)\n",
      "Character 'y' occurs 1 time(s)\n",
      "Character 'N' occurs 1 time(s)\n",
      "Character 'm' occurs 1 time(s)\n"
     ]
    }
   ],
   "source": [
    "def character_frequency(string):\n",
    "    freq = {}\n",
    "    for char in string:\n",
    "        if char in freq:\n",
    "            freq[char] += 1\n",
    "        else:\n",
    "            freq[char] = 1\n",
    "    for key, value in freq.items():\n",
    "        print(f\"Character '{key}' occurs {value} time(s)\")\n",
    "input_string = \"Tastes So Good, That Cats Ask for It By Name\"\n",
    "print(f\"Frequency of characters in '{input_string}':\")\n",
    "character_frequency(input_string)"
   ]
  },
  {
   "cell_type": "code",
   "execution_count": null,
   "id": "6439f8d5",
   "metadata": {},
   "outputs": [],
   "source": []
  }
 ],
 "metadata": {
  "kernelspec": {
   "display_name": "Python 3 (ipykernel)",
   "language": "python",
   "name": "python3"
  },
  "language_info": {
   "codemirror_mode": {
    "name": "ipython",
    "version": 3
   },
   "file_extension": ".py",
   "mimetype": "text/x-python",
   "name": "python",
   "nbconvert_exporter": "python",
   "pygments_lexer": "ipython3",
   "version": "3.11.5"
  }
 },
 "nbformat": 4,
 "nbformat_minor": 5
}
