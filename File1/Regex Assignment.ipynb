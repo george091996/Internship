{
 "cells": [
  {
   "cell_type": "markdown",
   "id": "57132d8f",
   "metadata": {},
   "source": [
    "# Regex Assignment"
   ]
  },
  {
   "cell_type": "markdown",
   "id": "55e98df9",
   "metadata": {},
   "source": [
    "Q1"
   ]
  },
  {
   "cell_type": "code",
   "execution_count": 15,
   "id": "d655d7c9",
   "metadata": {},
   "outputs": [
    {
     "name": "stdout",
     "output_type": "stream",
     "text": [
      "Python:Exercise::PHP:exercises\n"
     ]
    }
   ],
   "source": [
    "text = 'Python Exercise, PHP exercises'\n",
    "modified_text = re.sub(r'[ ,.]', ':', text)\n",
    "print(modified_text)"
   ]
  },
  {
   "cell_type": "markdown",
   "id": "6d024520",
   "metadata": {},
   "source": [
    "Q2"
   ]
  },
  {
   "cell_type": "code",
   "execution_count": 28,
   "id": "99fe0bd6",
   "metadata": {},
   "outputs": [
    {
     "name": "stdout",
     "output_type": "stream",
     "text": [
      "         SUMMARY\n",
      "0    hello world\n",
      "1     XXXXX test\n",
      "2  four five six\n"
     ]
    }
   ],
   "source": [
    "data = {'SUMMARY': ['hello, world!', 'XXXXX test', '1234four, five:; six:;...']}\n",
    "df = pd.DataFrame(data)\n",
    "def clean_text(text):\n",
    "    cleaned_text = re.sub(r'[^A-Za-z\\s]', '', text)\n",
    "    return cleaned_text\n",
    "df['SUMMARY'] = df['SUMMARY'].apply(clean_text)\n",
    "print(df)"
   ]
  },
  {
   "cell_type": "markdown",
   "id": "f4362df5",
   "metadata": {},
   "source": [
    "Q3"
   ]
  },
  {
   "cell_type": "code",
   "execution_count": 33,
   "id": "8ab33c79",
   "metadata": {},
   "outputs": [
    {
     "name": "stdout",
     "output_type": "stream",
     "text": [
      "['Team', 'these', 'string', 'containing', 'words', 'different', 'lengths', 'such', 'hello', 'world', 'Python']\n"
     ]
    }
   ],
   "source": [
    "import re\n",
    "def find_long_words(text):\n",
    "    word_pattern = re.compile(r'\\b\\w{4,}\\b')\n",
    "    long_words = word_pattern.findall(text)\n",
    "    return long_words\n",
    "input_text = \"Hi Team these are the string containing words of different lengths, such as hello, world, and Python\"\n",
    "long_words_found = find_long_words(input_text)\n",
    "print(long_words_found)"
   ]
  },
  {
   "cell_type": "markdown",
   "id": "d8987888",
   "metadata": {},
   "source": [
    "Q4"
   ]
  },
  {
   "cell_type": "code",
   "execution_count": 34,
   "id": "eb605b8f",
   "metadata": {},
   "outputs": [
    {
     "name": "stdout",
     "output_type": "stream",
     "text": [
      "['Hello', 'folks', 'here', 'are', 'some', 'words', 'like', 'hello', 'world', 'and']\n"
     ]
    }
   ],
   "source": [
    "import re\n",
    "def find_words_of_length(text):   \n",
    "    pattern = re.compile(r'\\b\\w{3,5}\\b')\n",
    "    matching_words = pattern.findall(text)\n",
    "    return matching_words\n",
    "input_text = \"Hello folks here are some examples of strings containing words of varying lengths like hello, world and Python.\"\n",
    "result = find_words_of_length(input_text)\n",
    "print(result)"
   ]
  },
  {
   "cell_type": "markdown",
   "id": "89856cac",
   "metadata": {},
   "source": [
    "Q5"
   ]
  },
  {
   "cell_type": "code",
   "execution_count": 37,
   "id": "2bb697fc",
   "metadata": {},
   "outputs": [
    {
     "name": "stdout",
     "output_type": "stream",
     "text": [
      "example \n",
      "hr@fliprobo\n",
      "github \n",
      "Hello \n",
      "Data \n"
     ]
    }
   ],
   "source": [
    "import re\n",
    "def remove_parentheses(strings):\n",
    "    pattern = re.compile(r'\\([^)]*\\)')\n",
    "    cleaned_strings = []\n",
    "    for s in strings:\n",
    "        cleaned_string = re.sub(pattern, '', s)\n",
    "        cleaned_strings.append(cleaned_string)   \n",
    "    return cleaned_strings\n",
    "sample_text = [\"example (.com)\", \"hr@fliprobo(.com)\", \"github (.com)\", \"Hello (Data Science World)\", \"Data (Scientist)\"]\n",
    "cleaned_output = remove_parentheses(sample_text)\n",
    "for string in cleaned_output:\n",
    "    print(string)"
   ]
  },
  {
   "cell_type": "markdown",
   "id": "e5bd3794",
   "metadata": {},
   "source": [
    "Q7"
   ]
  },
  {
   "cell_type": "code",
   "execution_count": 38,
   "id": "af6fbdc1",
   "metadata": {},
   "outputs": [
    {
     "name": "stdout",
     "output_type": "stream",
     "text": [
      "['Importance', 'Of', 'Regular', 'Expressions', 'In', 'Python']\n"
     ]
    }
   ],
   "source": [
    "import re\n",
    "sample_text = \"ImportanceOfRegularExpressionsInPython\"\n",
    "pattern=re.compile(r'[A-Z][a-z]*')\n",
    "split_words = pattern.findall(sample_text)\n",
    "print(split_words)"
   ]
  },
  {
   "cell_type": "markdown",
   "id": "55621162",
   "metadata": {},
   "source": [
    "Q8"
   ]
  },
  {
   "cell_type": "code",
   "execution_count": 39,
   "id": "6b1aefb6",
   "metadata": {},
   "outputs": [
    {
     "name": "stdout",
     "output_type": "stream",
     "text": [
      "RegularExpression 1 IsAn 2 ImportantTopic 3 InPython\n"
     ]
    }
   ],
   "source": [
    "def insert_spaces(text):\n",
    "    segments = []\n",
    "    i = 0\n",
    "    while i < len(text):\n",
    "        if text[i].isdigit():\n",
    "            j = i\n",
    "            while j < len(text) and text[j].isdigit():\n",
    "                j += 1\n",
    "            segments.append(text[i:j])\n",
    "            i = j\n",
    "        else:\n",
    "            j = i\n",
    "            while j < len(text) and not text[j].isdigit():\n",
    "                j += 1\n",
    "            segments.append(text[i:j])\n",
    "            i = j  \n",
    "    result = ' '.join(segments)\n",
    "    return result\n",
    "sample_text = \"RegularExpression1IsAn2ImportantTopic3InPython\"\n",
    "output = insert_spaces(sample_text)\n",
    "print(output)"
   ]
  },
  {
   "cell_type": "markdown",
   "id": "eb1e605f",
   "metadata": {},
   "source": [
    "Q9 - Answer"
   ]
  },
  {
   "cell_type": "code",
   "execution_count": 40,
   "id": "f39e0be3",
   "metadata": {},
   "outputs": [
    {
     "name": "stdout",
     "output_type": "stream",
     "text": [
      "Regular Expression1 Is An2 Important Topic3 In Python\n"
     ]
    }
   ],
   "source": [
    "def insert_spaces(text):\n",
    "    segments = []\n",
    "    i = 0\n",
    "    while i < len(text):\n",
    "        if text[i].isupper() or text[i].isdigit():\n",
    "            j = i + 1\n",
    "            while j < len(text) and (text[j].islower() or text[j].isdigit()):\n",
    "                j += 1\n",
    "            segments.append(text[i:j])\n",
    "            i = j\n",
    "        else:\n",
    "            j = i\n",
    "            while j < len(text) and not (text[j].isupper() or text[j].isdigit()):\n",
    "                j += 1\n",
    "            segments.append(text[i:j])\n",
    "            i = j\n",
    "    result = ' '.join(segments)\n",
    "    return result\n",
    "sample_text = \"RegularExpression1IsAn2ImportantTopic3InPython\"\n",
    "output = insert_spaces(sample_text)\n",
    "print(output)"
   ]
  },
  {
   "cell_type": "markdown",
   "id": "62944f07",
   "metadata": {},
   "source": [
    "Q12 - Answer"
   ]
  },
  {
   "cell_type": "code",
   "execution_count": 42,
   "id": "e96b5d11",
   "metadata": {},
   "outputs": [
    {
     "name": "stdout",
     "output_type": "stream",
     "text": [
      "does '12345Hello' start with 12345? True\n",
      "does '56789World' start with 9876? False\n"
     ]
    }
   ],
   "source": [
    "def starts_with_number(string, number):\n",
    "    number_str = str(number)\n",
    "    if string.startswith(number_str):\n",
    "        return True\n",
    "    else:\n",
    "        return False\n",
    "string1 = \"12345Hello\"\n",
    "number1 = 12345\n",
    "string2 = \"56789World\"\n",
    "number2 = 9876\n",
    "print(f\"does '{string1}' start with {number1}? {starts_with_number(string1, number1)}\")\n",
    "print(f\"does '{string2}' start with {number2}? {starts_with_number(string2, number2)}\")"
   ]
  },
  {
   "cell_type": "markdown",
   "id": "864f1f08",
   "metadata": {},
   "source": [
    "Q13 - Answer"
   ]
  },
  {
   "cell_type": "code",
   "execution_count": 44,
   "id": "c1d82087",
   "metadata": {},
   "outputs": [
    {
     "name": "stdout",
     "output_type": "stream",
     "text": [
      "Original IP Address 1: 193.178.001.001\n",
      "Cleaned IP Address 1 : 193.178.1.1\n",
      "Original IP Address 2: 010.010.100.010\n",
      "Cleaned IP Address 2 : 10.10.100.10\n"
     ]
    }
   ],
   "source": [
    "def remove_leading_zeros(ip_address):\n",
    "    octets = ip_address.split('.')  \n",
    "    cleaned_octets = [str(int(octet)) for octet in octets]\n",
    "    cleaned_ip = '.'.join(cleaned_octets)    \n",
    "    return cleaned_ip\n",
    "ip_address1 = \"193.178.001.001\"\n",
    "ip_address2 = \"010.010.100.010\"\n",
    "cleaned_ip1 = remove_leading_zeros(ip_address1)\n",
    "cleaned_ip2 = remove_leading_zeros(ip_address2)\n",
    "print(f\"Original IP Address 1: {ip_address1}\")\n",
    "print(f\"Cleaned IP Address 1 : {cleaned_ip1}\")\n",
    "print(f\"Original IP Address 2: {ip_address2}\")\n",
    "print(f\"Cleaned IP Address 2 : {cleaned_ip2}\")"
   ]
  },
  {
   "cell_type": "markdown",
   "id": "f73954ea",
   "metadata": {},
   "source": [
    "Q15 - Answer"
   ]
  },
  {
   "cell_type": "code",
   "execution_count": 47,
   "id": "3b0875e4",
   "metadata": {},
   "outputs": [
    {
     "name": "stdout",
     "output_type": "stream",
     "text": [
      "\"fox\" Not found in the text.\n"
     ]
    }
   ],
   "source": [
    "def search_and_locate(text, searched_word):\n",
    "    locations = []\n",
    "    index = text.find(searched_word)\n",
    "    while index != -1:\n",
    "        locations.append(index)\n",
    "        index = text.find(searched_word, index + 1)\n",
    "    return locations\n",
    "\n",
    "sample_text ='The Quick Brown Fox jumps over the lazy dog'\n",
    "\n",
    "searched_word = 'fox'\n",
    "\n",
    "locations = search_and_locate(sample_text, searched_word)\n",
    "\n",
    "if locations:\n",
    "    print(f'\"{searched_word}\"found in the text at position(s): {locations}')\n",
    "else:\n",
    "    print(f'\"{searched_word}\" Not found in the text.')"
   ]
  },
  {
   "cell_type": "markdown",
   "id": "7ef3f700",
   "metadata": {},
   "source": [
    "Q16 - Answer"
   ]
  },
  {
   "cell_type": "code",
   "execution_count": 45,
   "id": "5c063531",
   "metadata": {},
   "outputs": [
    {
     "name": "stdout",
     "output_type": "stream",
     "text": [
      "\"fox\" found in the text.\n",
      "\"dog\" found in the text.\n",
      "\"horse\" not found in the text.\n"
     ]
    }
   ],
   "source": [
    "def search_literals(text, searched_words):\n",
    "    results = {}\n",
    "    for word in searched_words:\n",
    "        if word in text:\n",
    "            results[word] = True\n",
    "        else:\n",
    "            results[word] = False\n",
    "    return results\n",
    "\n",
    "sample_text='The Quick brown fox jumps over the lazy dog'\n",
    "\n",
    "searched_words=['fox', 'dog', 'horse']\n",
    "\n",
    "results = search_literals(sample_text, searched_words)\n",
    "\n",
    "for word, found in results.items():\n",
    "    if found:\n",
    "        print(f'\"{word}\" found in the text.')\n",
    "    else:\n",
    "        print(f'\"{word}\" not found in the text.')"
   ]
  },
  {
   "cell_type": "markdown",
   "id": "ea8f2a1e",
   "metadata": {},
   "source": [
    "Q17 - Answer"
   ]
  },
  {
   "cell_type": "code",
   "execution_count": 48,
   "id": "98dc8864",
   "metadata": {},
   "outputs": [
    {
     "name": "stdout",
     "output_type": "stream",
     "text": [
      "\"exercises\" found in the text at position(s): [7, 22, 36]\n"
     ]
    }
   ],
   "source": [
    "def find_substrings(text, pattern):\n",
    "    start = 0\n",
    "    locations = []\n",
    "    while True:\n",
    "        start = text.find(pattern, start)\n",
    "        if start == -1:\n",
    "            break\n",
    "        locations.append(start)\n",
    "        start += 1\n",
    "    return locations\n",
    "sample_text = 'Python exercises, PHP exercises, C# exercises'\n",
    "pattern = 'exercises'\n",
    "locations = find_substrings(sample_text, pattern)\n",
    "if locations:\n",
    "    print(f'\"{pattern}\" found in the text at position(s): {locations}')\n",
    "else:\n",
    "    print(f'\"{pattern}\" not found in the text.')"
   ]
  },
  {
   "cell_type": "markdown",
   "id": "9f39c2e9",
   "metadata": {},
   "source": [
    "Q18 - Answer"
   ]
  },
  {
   "cell_type": "code",
   "execution_count": 50,
   "id": "e7c29b98",
   "metadata": {},
   "outputs": [
    {
     "name": "stdout",
     "output_type": "stream",
     "text": [
      "\"Python\" found at position 0\n",
      "\"exercises\" found at position 7\n",
      "\"exercises\" found at position 22\n",
      "\"exercises\" found at position 36\n"
     ]
    }
   ],
   "source": [
    "def find_occurrences_positions(text, pattern):\n",
    "    start = 0\n",
    "    occurrences = []\n",
    "    while True:\n",
    "        start = text.find(pattern, start)\n",
    "        if start == -1:\n",
    "            break\n",
    "        occurrences.append((pattern, start))\n",
    "        start += 1\n",
    "    return occurrences\n",
    "\n",
    "sample_text = 'Python exercises, PHP exercises, C# exercises'\n",
    "\n",
    "patterns = ['Python', 'exercises', 'Java']\n",
    "\n",
    "all_occurrences = []\n",
    "for pattern in patterns:\n",
    "    occurrences = find_occurrences_positions(sample_text, pattern)\n",
    "    all_occurrences.extend(occurrences)\n",
    "\n",
    "if all_occurrences:\n",
    "    for pattern, position in all_occurrences:\n",
    "        print(f'\"{pattern}\" found at position {position}')\n",
    "else:\n",
    "    print('No occurrences found.')"
   ]
  },
  {
   "cell_type": "markdown",
   "id": "1b51f3af",
   "metadata": {},
   "source": [
    "Q19 - Answer"
   ]
  },
  {
   "cell_type": "code",
   "execution_count": 51,
   "id": "d2f42525",
   "metadata": {},
   "outputs": [
    {
     "name": "stdout",
     "output_type": "stream",
     "text": [
      "Original date:2024-07-07\n",
      "Converted date:07-07-2024\n"
     ]
    }
   ],
   "source": [
    "def convert_date(date_str):\n",
    "\n",
    "    parts=date_str.split('-')\n",
    "\n",
    "    new_date=parts[2]+'-'+parts[1]+'-'+parts[0]\n",
    "    \n",
    "    return new_date\n",
    "\n",
    "date_str='2024-07-07'\n",
    "converted_date=convert_date(date_str)\n",
    "print(f'Original date:{date_str}')\n",
    "print(f'Converted date:{converted_date}')"
   ]
  },
  {
   "cell_type": "markdown",
   "id": "1870597d",
   "metadata": {},
   "source": [
    "Q20 - Answer"
   ]
  },
  {
   "cell_type": "code",
   "execution_count": 52,
   "id": "b2427978",
   "metadata": {},
   "outputs": [
    {
     "name": "stdout",
     "output_type": "stream",
     "text": [
      "Found decimal numbers: ['01.12', '145.8', '3.01', '27.25', '0.25']\n"
     ]
    }
   ],
   "source": [
    "import re\n",
    "\n",
    "def find_decimal_numbers(text):\n",
    "\n",
    "    pattern=re.compile(r'\\b\\d+\\.\\d{1,2}\\b')\n",
    "    \n",
    "    # Use findall to extract all matches\n",
    "    matches=pattern.findall(text)\n",
    "    \n",
    "    return matches\n",
    "\n",
    "sample_text=\"01.12 0132.123 2.31875 145.8 3.01 27.25 0.25\"\n",
    "\n",
    "result=find_decimal_numbers(sample_text)\n",
    "print(\"Found decimal numbers:\", result)"
   ]
  },
  {
   "cell_type": "markdown",
   "id": "43ab0fab",
   "metadata": {},
   "source": [
    "Q21 - Answer"
   ]
  },
  {
   "cell_type": "code",
   "execution_count": 53,
   "id": "0c90d6d0",
   "metadata": {},
   "outputs": [
    {
     "name": "stdout",
     "output_type": "stream",
     "text": [
      "Numbers found: ['1', '2', '3', '4', '5', '6']\n",
      "Positions: [3, 4, 5, 9, 10, 11]\n"
     ]
    }
   ],
   "source": [
    "def find_numbers_positions(input_string):\n",
    "    numbers = []\n",
    "    positions = []\n",
    "\n",
    "    for index, char in enumerate(input_string):\n",
    "        if char.isdigit():\n",
    "            numbers.append(char)\n",
    "            positions.append(index)\n",
    "    \n",
    "    return numbers, positions\n",
    "\n",
    "input_string = \"abc123xyz456\"\n",
    "numbers, positions = find_numbers_positions(input_string)\n",
    "\n",
    "print(\"Numbers found:\", numbers)\n",
    "print(\"Positions:\", positions)"
   ]
  },
  {
   "cell_type": "markdown",
   "id": "a40f4775",
   "metadata": {},
   "source": [
    "Q22 - Answer"
   ]
  },
  {
   "cell_type": "code",
   "execution_count": 55,
   "id": "9d2dede7",
   "metadata": {},
   "outputs": [
    {
     "name": "stdout",
     "output_type": "stream",
     "text": [
      "maximum number: 950\n"
     ]
    }
   ],
   "source": [
    "import re\n",
    "\n",
    "def extract_max_number(input_string):\n",
    "\n",
    "    numbers = re.findall(r'\\d+', input_string)\n",
    "\n",
    "    if numbers:\n",
    "        max_number = max(map(int, numbers))\n",
    "        return max_number\n",
    "    else:\n",
    "        return None\n",
    "\n",
    "input_string = 'My marks in each semester are: 947, 896, 926, 524, 734, 950, 642'\n",
    "max_number = extract_max_number(input_string)\n",
    "\n",
    "print(\"maximum number:\", max_number)"
   ]
  },
  {
   "cell_type": "markdown",
   "id": "a74abcc5",
   "metadata": {},
   "source": [
    "Q23 - ANswer"
   ]
  },
  {
   "cell_type": "code",
   "execution_count": 57,
   "id": "3beb94c5",
   "metadata": {},
   "outputs": [
    {
     "name": "stdout",
     "output_type": "stream",
     "text": [
      "Input: RegularexpressionIsAnImportantTopicInPython\n",
      "Output: Regularexpression Is An Important Topic In Python\n"
     ]
    }
   ],
   "source": [
    "def insert_spaces(input_string):\n",
    "\n",
    "    output_parts = []\n",
    "    \n",
    "    i = 0\n",
    "    while i < len(input_string):\n",
    "\n",
    "        if input_string[i].isupper() and i > 0:\n",
    "\n",
    "            output_parts.append(' ')\n",
    "\n",
    "        output_parts.append(input_string[i])\n",
    "        \n",
    "        i += 1\n",
    "\n",
    "    return ''.join(output_parts)\n",
    "\n",
    "input_string = \"RegularexpressionIsAnImportantTopicInPython\"\n",
    "output_string = insert_spaces(input_string)\n",
    "print(\"Input:\", input_string)\n",
    "print(\"Output:\", output_string)"
   ]
  },
  {
   "cell_type": "markdown",
   "id": "f3465df0",
   "metadata": {},
   "source": [
    "Q24 - Answer"
   ]
  },
  {
   "cell_type": "code",
   "execution_count": 58,
   "id": "150eee74",
   "metadata": {},
   "outputs": [
    {
     "name": "stdout",
     "output_type": "stream",
     "text": [
      "['Hi', 'Folks', 'Sequence', 'Uppercase', 'Letters', 'This', 'One']\n"
     ]
    }
   ],
   "source": [
    "import re\n",
    "\n",
    "text=\"Hi Folks you can find the Sequence with Uppercase and lowercase Letters like This One.\"\n",
    "\n",
    "pattern=r'[A-Z][a-z]+'\n",
    "\n",
    "matches=re.findall(pattern, text)\n",
    "\n",
    "print(matches)"
   ]
  },
  {
   "cell_type": "markdown",
   "id": "3d1347e8",
   "metadata": {},
   "source": [
    "Q25 - Answer"
   ]
  },
  {
   "cell_type": "code",
   "execution_count": 59,
   "id": "576d0c40",
   "metadata": {},
   "outputs": [
    {
     "name": "stdout",
     "output_type": "stream",
     "text": [
      "Original Sentence: Hello hello world world\n",
      "Processed Sentence: Hello world\n"
     ]
    }
   ],
   "source": [
    "import re\n",
    "\n",
    "def remove_duplicates (sentence):\n",
    "\n",
    "    pattern=r'\\b(\\w+)(?:\\s+\\1\\b)+'\n",
    "    \n",
    "    result=re.sub(pattern, r'\\1',sentence,flags=re.IGNORECASE)\n",
    "    \n",
    "    return result\n",
    "\n",
    "text=\"Hello hello world world\"\n",
    "\n",
    "output=remove_duplicates(text)\n",
    "\n",
    "print(\"Original Sentence:\", text)\n",
    "print(\"Processed Sentence:\", output)"
   ]
  },
  {
   "cell_type": "markdown",
   "id": "74d3621b",
   "metadata": {},
   "source": [
    "Q26 - Answer"
   ]
  },
  {
   "cell_type": "code",
   "execution_count": 60,
   "id": "78b3dc6e",
   "metadata": {},
   "outputs": [
    {
     "name": "stdout",
     "output_type": "stream",
     "text": [
      "String: abc123456789 -> Ends with alphanumeric? True\n",
      "String: helloboy123  -> Ends with alphanumeric? False\n",
      "String: Python! -> Ends with alphanumeric? False\n",
      "String: 9876565456 -> Ends with alphanumeric? True\n",
      "String: end@$ -> Ends with alphanumeric? False\n"
     ]
    }
   ],
   "source": [
    "import re\n",
    "\n",
    "def ends_with_alphanumeric(input_string):\n",
    "\n",
    "    pattern = r'^.*[a-zA-Z0-9]$'\n",
    "    if re.match(pattern, input_string):\n",
    "        return True\n",
    "    else:\n",
    "        return False\n",
    "\n",
    "test_strings = [\n",
    "    \"abc123456789\",\n",
    "    \"helloboy123 \",\n",
    "    \"Python!\",\n",
    "    \"9876565456\",\n",
    "    \"end@$\"\n",
    "]\n",
    "\n",
    "# Test the function\n",
    "for string in test_strings:\n",
    "    result = ends_with_alphanumeric(string)\n",
    "    print(f\"String: {string} -> Ends with alphanumeric? {result}\")"
   ]
  },
  {
   "cell_type": "markdown",
   "id": "11af8f95",
   "metadata": {},
   "source": [
    "Q27 - Answer"
   ]
  },
  {
   "cell_type": "code",
   "execution_count": 61,
   "id": "69bbd679",
   "metadata": {},
   "outputs": [
    {
     "name": "stdout",
     "output_type": "stream",
     "text": [
      "Extracted Hashtags: ['#Doltiwal', '#xyzabc', '#Demonetization']\n"
     ]
    }
   ],
   "source": [
    "import re\n",
    "\n",
    "def extract_hashtags(input_text):\n",
    "    pattern = r'\\#[^\\s#]+'\n",
    "\n",
    "    hashtags=re.findall(pattern, input_text)\n",
    "    \n",
    "    return hashtags\n",
    "\n",
    "sample_text=\"\"\"RT @kapil_kausik: #Doltiwal I mean #xyzabc is \"hurt\" by #Demonetization as the same has rendered USELESS <ed><U+00A0><U+00BD><ed><U+00B1><U+0089> \"acquired funds\" No wo\"\"\"\n",
    "\n",
    "hashtags=extract_hashtags(sample_text)\n",
    "\n",
    "print(\"Extracted Hashtags:\", hashtags)"
   ]
  },
  {
   "cell_type": "markdown",
   "id": "5583b7ad",
   "metadata": {},
   "source": [
    "Q30 - Answer"
   ]
  },
  {
   "cell_type": "code",
   "execution_count": 65,
   "id": "04858a25",
   "metadata": {},
   "outputs": [
    {
     "name": "stdout",
     "output_type": "stream",
     "text": [
      "cleaned Text:  following example creates  ArrayList  a capacity   elements. 4 elements   added   ArrayList   ArrayList  trimmed accordingly.\n"
     ]
    }
   ],
   "source": [
    "import re\n",
    "\n",
    "def remove_words_of_length_between_2_and_4(text):\n",
    "\n",
    "    pattern=re.compile(r'\\b\\w{2,4}\\b')\n",
    "\n",
    "    cleaned_text=pattern.sub('', text)\n",
    "\n",
    "    return cleaned_text\n",
    "\n",
    "sample_text=\"The following example creates an ArrayList with a capacity of 50 elements. 4 elements are then added to the ArrayList and the ArrayList is trimmed accordingly.\"\n",
    "cleaned_text=remove_words_of_length_between_2_and_4(sample_text)\n",
    "\n",
    "print(\"cleaned Text:\", cleaned_text)"
   ]
  },
  {
   "cell_type": "code",
   "execution_count": null,
   "id": "c07e8e51",
   "metadata": {},
   "outputs": [],
   "source": []
  }
 ],
 "metadata": {
  "kernelspec": {
   "display_name": "Python 3 (ipykernel)",
   "language": "python",
   "name": "python3"
  },
  "language_info": {
   "codemirror_mode": {
    "name": "ipython",
    "version": 3
   },
   "file_extension": ".py",
   "mimetype": "text/x-python",
   "name": "python",
   "nbconvert_exporter": "python",
   "pygments_lexer": "ipython3",
   "version": "3.11.5"
  }
 },
 "nbformat": 4,
 "nbformat_minor": 5
}
